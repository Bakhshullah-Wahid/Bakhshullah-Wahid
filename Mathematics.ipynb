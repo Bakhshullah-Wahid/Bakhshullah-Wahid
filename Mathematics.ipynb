{
  "nbformat": 4,
  "nbformat_minor": 0,
  "metadata": {
    "colab": {
      "provenance": [],
      "authorship_tag": "ABX9TyPBuHxnHQZwCJ8YVFcZ+8e3",
      "include_colab_link": true
    },
    "kernelspec": {
      "name": "python3",
      "display_name": "Python 3"
    },
    "language_info": {
      "name": "python"
    }
  },
  "cells": [
    {
      "cell_type": "markdown",
      "metadata": {
        "id": "view-in-github",
        "colab_type": "text"
      },
      "source": [
        "<a href=\"https://colab.research.google.com/github/Bakhshullah-Wahid/Bakhshullah-Wahid/blob/main/Mathematics.ipynb\" target=\"_parent\"><img src=\"https://colab.research.google.com/assets/colab-badge.svg\" alt=\"Open In Colab\"/></a>"
      ]
    },
    {
      "cell_type": "markdown",
      "source": [
        "<center>\n",
        " Rising Star Public School\n",
        "</center>\n",
        "\n",
        "$$\n",
        "\\hspace{2cm} \\text{Class: 7th} \\hspace{2cm} \\text{Paper: Mathematics} \\hspace{2cm} \\text{Date: }\n",
        "$$\n",
        "**Question No 1:**\n",
        "\n",
        "Reciprocals into Rational number\n",
        "\n",
        "Example:\n",
        "$\n",
        "\\frac{\\left( \\frac{3}{2} \\right)^{-2}}{\\left( \\frac{4}{3} \\right)^{-3}}\n",
        "$\n",
        "\n",
        "Solution: $\n",
        "\\frac{\\left( \\frac{2}{3} \\right)^{2}}{\\left( \\frac{3}{4} \\right)^{3}}\n",
        "$\n",
        "= $\n",
        "\\frac{\\left( \\frac{2}{3} \\right)\\times\\left( \\frac{2}{3} \\right)}{\\left( \\frac{3}{4} \\right)\\times\\left( \\frac{3}{4} \\right)\\times\\left( \\frac{3}{4} \\right)}\n",
        "$\n",
        "= $\n",
        "\\frac{\\left( \\frac{4}{9} \\right)}{\\left( \\frac{27}{64} \\right)}\n",
        "$\n",
        "=$\n",
        "\\left( \\frac{4}{9} \\right) \\times \\left( \\frac{64}{27} \\right)\n",
        "$\n",
        "=$\\left( \\frac{256}{243} \\right)$\n",
        "Ans\n",
        "\n",
        "Your questions:\n",
        "\n",
        "\n",
        "1:$\n",
        "\\frac{\\left( \\frac{5}{6} \\right)^{-2}}{\\left( \\frac{2}{3} \\right)^{-3}}\n",
        "$\n",
        "\n",
        "2:$\n",
        "\\frac{\\left( \\frac{1}{2} \\right)^{-3}}{\\left( \\frac{2}{5} \\right)^{-2}}\n",
        "$\n",
        "\n",
        "**Question No 2:**\n",
        "\n",
        "Exponent to Rationals\n",
        "\n",
        "Example:$\\hspace{1cm}3^3$\n",
        "\n",
        "Solution:$\\hspace{1cm}3\\times3\\times3$\n",
        "=9\n",
        "\n",
        "Your questions:\n",
        "\n",
        "$$\n",
        "1:5^2 \\hspace{1cm} 2:3^2 \\hspace{1cm} 3:2^4 \\hspace{1cm} 4:4^2 \\hspace{1cm} 5:1^2 \\hspace{1cm} 6:6^2\n",
        "$$\n",
        "\n",
        "\n",
        "\n",
        "**Question No 3:**\n",
        "\n",
        "Rationals to Exponent\n",
        "\n",
        "Example:\n",
        "$\\hspace{1cm}100$\n",
        "\n",
        "Solution:\n",
        "$\\hspace{1cm}100=10\\times 10\n",
        "=10^2$\n",
        "\n",
        "$$\n",
        "1:25 \\hspace{1cm} 2:36 \\hspace{1cm} 3:4 \\hspace{1cm} 4:9 \\hspace{1cm} 5:49 \\hspace{1cm} 6:1\n",
        "$$\n"
      ],
      "metadata": {
        "id": "YirXcLw6wyn1"
      }
    }
  ]
}